{
 "cells": [
  {
   "cell_type": "markdown",
   "source": [
    "# name:shen\n",
    "# time:2023/03/16\n",
    "# content:"
   ],
   "metadata": {
    "collapsed": false
   }
  },
  {
   "cell_type": "code",
   "execution_count": 33,
   "outputs": [
    {
     "name": "stdout",
     "output_type": "stream",
     "text": [
      "200\n"
     ]
    },
    {
     "data": {
      "text/plain": "{'request_id': '1678938297,c67f35e1-de47-489f-af1b-a0b5992014a7',\n 'time_used': 249,\n 'faces': [{'face_token': '0d723cef0a4d91e7cd6e31b4bcf959d0',\n   'face_rectangle': {'top': 194, 'left': 232, 'width': 246, 'height': 246},\n   'attributes': {'gender': {'value': 'Male'},\n    'age': {'value': 22},\n    'smile': {'value': 0.397, 'threshold': 50.0},\n    'emotion': {'anger': 0.037,\n     'disgust': 0.006,\n     'fear': 0.006,\n     'happiness': 0.149,\n     'neutral': 99.601,\n     'sadness': 0.011,\n     'surprise': 0.192},\n    'beauty': {'male_score': 62.674, 'female_score': 61.785}}}],\n 'image_id': '2eehnybxMip0fBmIo8PnGA==',\n 'face_num': 1}"
     },
     "execution_count": 33,
     "metadata": {},
     "output_type": "execute_result"
    }
   ],
   "source": [
    "\n",
    "# encoding:utf-8\n",
    "\n",
    "import requests\n",
    "import base64\n",
    "\n",
    "'''\n",
    "通用物体和场景识别\n",
    "'''\n",
    "\n",
    "request_url = \"https://api-cn.faceplusplus.com/facepp/v3/detect\"\n",
    "# 二进制方式打开图片文件\n",
    "f = open('zhouxingxing.png', 'rb')\n",
    "img = base64.b64encode(f.read())\n",
    "\n",
    "params = {\"image_base64\":img,\n",
    "          \"api_key\":\"-5u_py7BtUTaYnMVjb8mfHhBAU_G1XtN\",\"api_secret\":\"s-yBiTl2oZK6-ykxqpA3t_5K6yj22uYk\",\n",
    "          \"return_attributes\":\"gender,age,smiling,emotion,beauty\"\n",
    "          }\n",
    "\n",
    "headers = {'content-type': 'application/x-www-form-urlencoded'}\n",
    "\n",
    "request_url = request_url\n",
    "\n",
    "response = requests.post(request_url, data=params, headers=headers)\n",
    "\n",
    "print(response.status_code)\n",
    "response.json()"
   ],
   "metadata": {
    "collapsed": false
   }
  },
  {
   "cell_type": "code",
   "execution_count": 18,
   "outputs": [
    {
     "data": {
      "text/plain": "'{\"request_id\":\"1678936948,f02a0d5a-3ac5-435c-9ada-0d7a96f09b18\",\"time_used\":60,\"error_message\":\"MISSING_ARGUMENTS: image_url, image_file, image_base64\"}\\n'"
     },
     "execution_count": 18,
     "metadata": {},
     "output_type": "execute_result"
    }
   ],
   "source": [],
   "metadata": {
    "collapsed": false
   }
  },
  {
   "cell_type": "code",
   "execution_count": null,
   "outputs": [],
   "source": [],
   "metadata": {
    "collapsed": false
   }
  }
 ],
 "metadata": {
  "kernelspec": {
   "display_name": "Python 3",
   "language": "python",
   "name": "python3"
  },
  "language_info": {
   "codemirror_mode": {
    "name": "ipython",
    "version": 2
   },
   "file_extension": ".py",
   "mimetype": "text/x-python",
   "name": "python",
   "nbconvert_exporter": "python",
   "pygments_lexer": "ipython2",
   "version": "2.7.6"
  }
 },
 "nbformat": 4,
 "nbformat_minor": 0
}
