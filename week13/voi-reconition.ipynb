{
 "cells": [
  {
   "cell_type": "markdown",
   "metadata": {},
   "source": [
    "# 语音识别\n",
    "- 1.百度API：百度的AI账户（Key，secret）\n",
    "- 2.I/O：input 音频文件（pcm/wav）"
   ]
  },
  {
   "cell_type": "markdown",
   "metadata": {},
   "source": [
    "# 音频录制\n",
    "1.SpeechRecognition\n",
    "2. Pyaudio\n",
    "3. pydub"
   ]
  },
  {
   "cell_type": "code",
   "execution_count": 2,
   "metadata": {},
   "outputs": [],
   "source": [
    "import speech_recognition\n",
    "import time\n",
    "r = speech_recognition.Recognizer()\n",
    "with speech_recognition.Microphone() as source:\n",
    "    audio = r.listen(source,timeout=10)\n",
    "with open(\"output.wav\",\"wb\") as f:\n",
    "    f.write(audio.get_wav_data(convert_rate=16000))"
   ]
  },
  {
   "cell_type": "code",
   "execution_count": 3,
   "metadata": {},
   "outputs": [],
   "source": [
    "import bdasr"
   ]
  },
  {
   "cell_type": "code",
   "execution_count": 4,
   "metadata": {},
   "outputs": [
    {
     "name": "stdout",
     "output_type": "stream",
     "text": [
      "{\"refresh_token\":\"25.a1cf2e8219e659f402f89ed330c04096.315360000.2002154933.282335-33415606\",\"expires_in\":2592000,\"session_key\":\"9mzdAvbi1bYoi2zOK\\/ZQBrkP\\/BhuhzJVouMZnKUSWkbcsfG\\/ocJCbn8nOMDz+cPRq5OPCoffTVZ7iTYEbh8AWaA+\\/LgyVg==\",\"access_token\":\"24.9448aff0a1fe24fa2081d53d00080a7f.2592000.1689386933.282335-33415606\",\"scope\":\"audio_voice_assistant_get brain_enhanced_asr audio_tts_post brain_speech_realtime public brain_all_scope brain_asr_async wise_adapt lebo_resource_base lightservice_public hetu_basic lightcms_map_poi kaidian_kaidian ApsMisTest_Test\\u6743\\u9650 vis-classify_flower lpq_\\u5f00\\u653e cop_helloScope ApsMis_fangdi_permission smartapp_snsapi_base smartapp_mapp_dev_manage iop_autocar oauth_tp_app smartapp_smart_game_openapi oauth_sessionkey smartapp_swanid_verify smartapp_opensource_openapi smartapp_opensource_recapi fake_face_detect_\\u5f00\\u653eScope vis-ocr_\\u865a\\u62df\\u4eba\\u7269\\u52a9\\u7406 idl-video_\\u865a\\u62df\\u4eba\\u7269\\u52a9\\u7406 smartapp_component smartapp_search_plugin avatar_video_test b2b_tp_openapi b2b_tp_openapi_online smartapp_gov_aladin_to_xcx\",\"session_secret\":\"fb84d2198d9ad0d5e872bb7972a51453\"}\n",
      "\n",
      "{'refresh_token': '25.a1cf2e8219e659f402f89ed330c04096.315360000.2002154933.282335-33415606', 'expires_in': 2592000, 'session_key': '9mzdAvbi1bYoi2zOK/ZQBrkP/BhuhzJVouMZnKUSWkbcsfG/ocJCbn8nOMDz+cPRq5OPCoffTVZ7iTYEbh8AWaA+/LgyVg==', 'access_token': '24.9448aff0a1fe24fa2081d53d00080a7f.2592000.1689386933.282335-33415606', 'scope': 'audio_voice_assistant_get brain_enhanced_asr audio_tts_post brain_speech_realtime public brain_all_scope brain_asr_async wise_adapt lebo_resource_base lightservice_public hetu_basic lightcms_map_poi kaidian_kaidian ApsMisTest_Test权限 vis-classify_flower lpq_开放 cop_helloScope ApsMis_fangdi_permission smartapp_snsapi_base smartapp_mapp_dev_manage iop_autocar oauth_tp_app smartapp_smart_game_openapi oauth_sessionkey smartapp_swanid_verify smartapp_opensource_openapi smartapp_opensource_recapi fake_face_detect_开放Scope vis-ocr_虚拟人物助理 idl-video_虚拟人物助理 smartapp_component smartapp_search_plugin avatar_video_test b2b_tp_openapi b2b_tp_openapi_online smartapp_gov_aladin_to_xcx', 'session_secret': 'fb84d2198d9ad0d5e872bb7972a51453'}\n",
      "audio_voice_assistant_get\n",
      "SUCCESS WITH TOKEN: 24.9448aff0a1fe24fa2081d53d00080a7f.2592000.1689386933.282335-33415606  EXPIRES IN SECONDS: 2592000\n",
      "Request time cost 0.812858\n",
      "{\"corpus_no\":\"7244729073654910607\",\"err_msg\":\"success.\",\"err_no\":0,\"result\":[\"呃，你好。\"],\"sn\":\"415673921331686794933\"}\n",
      "\n"
     ]
    },
    {
     "data": {
      "text/plain": "'呃，你好。'"
     },
     "execution_count": 4,
     "metadata": {},
     "output_type": "execute_result"
    }
   ],
   "source": [
    "bdasr_result = eval(bdasr.asr(\"output.wav\"))['result'][0]\n",
    "bdasr_result"
   ]
  },
  {
   "cell_type": "markdown",
   "metadata": {},
   "source": [
    "# 连接自动回复字典(openai chatgpt)"
   ]
  },
  {
   "cell_type": "code",
   "execution_count": 9,
   "metadata": {},
   "outputs": [],
   "source": [
    "qa = {\n",
    "    \"这个天天都可以起来了哦，我看一下那个我们今天晚上来我们睡觉，真的很喜欢你的电脑都死机了，我随便，只有不去羡慕自己了。\":\"家人们谁懂阿,去你的\",\n",
    "    \"呃，你好。\":\"家人们谁懂阿\"\n",
    "}"
   ]
  },
  {
   "cell_type": "code",
   "execution_count": 10,
   "metadata": {},
   "outputs": [
    {
     "data": {
      "text/plain": "'家人们谁懂阿'"
     },
     "execution_count": 10,
     "metadata": {},
     "output_type": "execute_result"
    }
   ],
   "source": [
    "qa_result = qa.get(bdasr_result)\n",
    "qa_result"
   ]
  },
  {
   "cell_type": "markdown",
   "metadata": {},
   "source": [
    "# 语音合成"
   ]
  },
  {
   "cell_type": "code",
   "execution_count": 11,
   "metadata": {},
   "outputs": [],
   "source": [
    "import bdtts"
   ]
  },
  {
   "cell_type": "code",
   "execution_count": 12,
   "metadata": {},
   "outputs": [
    {
     "name": "stdout",
     "output_type": "stream",
     "text": [
      "SUCCESS WITH TOKEN: 24.89f661477239c21711020ab8a536357b.2592000.1689386959.282335-19331335 ; EXPIRES IN SECONDS: 2592000\n",
      "test on Web Browserhttp://tsn.baidu.com/text2audio?tok=24.89f661477239c21711020ab8a536357b.2592000.1689386959.282335-19331335&tex=%25E5%25AE%25B6%25E4%25BA%25BA%25E4%25BB%25AC%25E8%25B0%2581%25E6%2587%2582%25E9%2598%25BF&per=4&spd=5&pit=5&vol=5&aue=6&cuid=123456PYTHON&lan=zh&ctp=1\n",
      "result saved as :result.wav\n"
     ]
    }
   ],
   "source": [
    "\n",
    "bdtts.tts(qa_result)"
   ]
  },
  {
   "cell_type": "code",
   "execution_count": null,
   "metadata": {},
   "outputs": [],
   "source": []
  },
  {
   "cell_type": "code",
   "execution_count": null,
   "metadata": {},
   "outputs": [],
   "source": []
  },
  {
   "cell_type": "code",
   "execution_count": null,
   "metadata": {},
   "outputs": [],
   "source": []
  },
  {
   "cell_type": "code",
   "execution_count": null,
   "metadata": {},
   "outputs": [],
   "source": []
  },
  {
   "cell_type": "code",
   "execution_count": null,
   "metadata": {},
   "outputs": [],
   "source": []
  },
  {
   "cell_type": "code",
   "execution_count": null,
   "metadata": {},
   "outputs": [],
   "source": []
  },
  {
   "cell_type": "code",
   "execution_count": null,
   "metadata": {},
   "outputs": [],
   "source": []
  },
  {
   "cell_type": "code",
   "execution_count": null,
   "metadata": {},
   "outputs": [],
   "source": []
  },
  {
   "cell_type": "code",
   "execution_count": null,
   "metadata": {},
   "outputs": [],
   "source": []
  },
  {
   "cell_type": "code",
   "execution_count": null,
   "metadata": {},
   "outputs": [],
   "source": []
  },
  {
   "cell_type": "code",
   "execution_count": null,
   "metadata": {},
   "outputs": [],
   "source": []
  }
 ],
 "metadata": {
  "kernelspec": {
   "display_name": "Python 3 (ipykernel)",
   "language": "python",
   "name": "python3"
  },
  "language_info": {
   "codemirror_mode": {
    "name": "ipython",
    "version": 3
   },
   "file_extension": ".py",
   "mimetype": "text/x-python",
   "name": "python",
   "nbconvert_exporter": "python",
   "pygments_lexer": "ipython3",
   "version": "3.9.13"
  }
 },
 "nbformat": 4,
 "nbformat_minor": 1
}
